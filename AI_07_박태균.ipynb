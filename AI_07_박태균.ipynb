{
  "cells": [
    {
      "cell_type": "markdown",
      "metadata": {
        "id": "view-in-github",
        "colab_type": "text"
      },
      "source": [
        "<a href=\"https://colab.research.google.com/github/HelloWorld33333/Pork/blob/main/AI_07_%EB%B0%95%ED%83%9C%EA%B7%A0.ipynb\" target=\"_parent\"><img src=\"https://colab.research.google.com/assets/colab-badge.svg\" alt=\"Open In Colab\"/></a>"
      ]
    },
    {
      "cell_type": "markdown",
      "metadata": {
        "id": "GWO3gMUmm0IR"
      },
      "source": [
        "# KoBERT finetuning"
      ]
    },
    {
      "cell_type": "code",
      "execution_count": null,
      "metadata": {
        "id": "HeYe5GrQm0IX"
      },
      "outputs": [],
      "source": [
        "#!pip install ipywidgets  # for vscode\n",
        "!pip install git+https://git@github.com/SKTBrain/KoBERT.git@master"
      ]
    },
    {
      "cell_type": "code",
      "execution_count": null,
      "metadata": {
        "id": "yor_iDxRm0IZ"
      },
      "outputs": [],
      "source": [
        "import torch\n",
        "from torch import nn\n",
        "import torch.nn.functional as F\n",
        "import torch.optim as optim\n",
        "from torch.utils.data import Dataset, DataLoader\n",
        "import gluonnlp as nlp\n",
        "import numpy as np\n",
        "from tqdm.notebook import tqdm"
      ]
    },
    {
      "cell_type": "code",
      "execution_count": null,
      "metadata": {
        "id": "hHkacbDdm0Ia"
      },
      "outputs": [],
      "source": [
        "from kobert import get_tokenizer\n",
        "from kobert import get_pytorch_kobert_model"
      ]
    },
    {
      "cell_type": "code",
      "execution_count": null,
      "metadata": {
        "id": "wRS2ocXZm0Ia"
      },
      "outputs": [],
      "source": [
        "from transformers import AdamW\n",
        "from transformers.optimization import get_cosine_schedule_with_warmup"
      ]
    },
    {
      "cell_type": "code",
      "execution_count": null,
      "metadata": {
        "id": "oZoxsw9hm0Ib"
      },
      "outputs": [],
      "source": [
        "## CPU\n",
        "#device = torch.device(\"cpu\")\n",
        "\n",
        "## GPU\n",
        "device = torch.device(\"cuda:0\")"
      ]
    },
    {
      "cell_type": "code",
      "execution_count": null,
      "metadata": {
        "id": "A-bkNbOtm0Ib",
        "colab": {
          "base_uri": "https://localhost:8080/"
        },
        "outputId": "35176ff7-d12a-4b49-a05e-2ac391d71ec3"
      },
      "outputs": [
        {
          "output_type": "stream",
          "name": "stdout",
          "text": [
            "/content/.cache/kobert_v1.zip[██████████████████████████████████████████████████]\n",
            "/content/.cache/kobert_news_wiki_ko_cased-1087f8699e.spiece[██████████████████████████████████████████████████]\n"
          ]
        }
      ],
      "source": [
        "bertmodel, vocab = get_pytorch_kobert_model(cachedir=\".cache\")"
      ]
    },
    {
      "cell_type": "code",
      "execution_count": null,
      "metadata": {
        "id": "gmotKJLqm0Ic"
      },
      "outputs": [],
      "source": [
        "#!wget -O .cache/ratings_train.txt http://skt-lsl-nlp-model.s3.amazonaws.com/KoBERT/datasets/nsmc/ratings_train.txt\n",
        "#!wget -O .cache/ratings_test.txt http://skt-lsl-nlp-model.s3.amazonaws.com/KoBERT/datasets/nsmc/ratings_test.txt"
      ]
    },
    {
      "cell_type": "code",
      "source": [
        "from google.colab import drive\n",
        "drive.mount('/content/drive')"
      ],
      "metadata": {
        "colab": {
          "base_uri": "https://localhost:8080/"
        },
        "id": "DsR9ZoKsoV1B",
        "outputId": "23e1f4e7-3c81-4b21-b359-c2edb186a756"
      },
      "execution_count": null,
      "outputs": [
        {
          "output_type": "stream",
          "name": "stdout",
          "text": [
            "Mounted at /content/drive\n"
          ]
        }
      ]
    },
    {
      "cell_type": "code",
      "source": [
        "import pandas as pd"
      ],
      "metadata": {
        "id": "aE9eWrpIpGeE"
      },
      "execution_count": null,
      "outputs": []
    },
    {
      "cell_type": "code",
      "source": [
        "data_set1 = '/content/drive/MyDrive/Colab Notebooks/P4/감성대화말뭉치(원시데이터)_Training.xlsx'\n",
        "\n",
        "df = pd.read_excel(data_set1, usecols = [6, 8, 10, 12])"
      ],
      "metadata": {
        "id": "MYnHoVNBoq6M"
      },
      "execution_count": null,
      "outputs": []
    },
    {
      "cell_type": "code",
      "source": [
        "data_set2 = '/content/drive/MyDrive/Colab Notebooks/P4/감성대화말뭉치(최종데이터)_Training.xlsx'\n",
        "\n",
        "df_2 = pd.read_excel(data_set2, usecols = [5, 7, 9, 11, 13])"
      ],
      "metadata": {
        "id": "5-BMr-CthH1a"
      },
      "execution_count": null,
      "outputs": []
    },
    {
      "cell_type": "code",
      "source": [
        "df = df.astype(str)\n",
        "df_2 = df_2.astype(str)"
      ],
      "metadata": {
        "id": "Mj_kfMLoxqCg"
      },
      "execution_count": null,
      "outputs": []
    },
    {
      "cell_type": "code",
      "source": [
        "df['사람문장3'] = df['사람문장3'].replace('nan', '')"
      ],
      "metadata": {
        "id": "7BATxftVkmoW"
      },
      "execution_count": null,
      "outputs": []
    },
    {
      "cell_type": "code",
      "source": [
        "df['sentence'] = df[['사람문장1', '사람문장2', '사람문장3']].apply(' '.join, axis=1)\n",
        "\n",
        "df_clone_1 = df[['감정_대분류', 'sentence']]\n",
        "df_clone_1"
      ],
      "metadata": {
        "colab": {
          "base_uri": "https://localhost:8080/",
          "height": 424
        },
        "id": "f4gRt851pK_V",
        "outputId": "e04798e6-e962-45a5-e8ce-6d936cae7320"
      },
      "execution_count": null,
      "outputs": [
        {
          "output_type": "execute_result",
          "data": {
            "text/html": [
              "\n",
              "  <div id=\"df-c33dcc1d-71ba-4525-b4db-d363f8ef6a13\">\n",
              "    <div class=\"colab-df-container\">\n",
              "      <div>\n",
              "<style scoped>\n",
              "    .dataframe tbody tr th:only-of-type {\n",
              "        vertical-align: middle;\n",
              "    }\n",
              "\n",
              "    .dataframe tbody tr th {\n",
              "        vertical-align: top;\n",
              "    }\n",
              "\n",
              "    .dataframe thead th {\n",
              "        text-align: right;\n",
              "    }\n",
              "</style>\n",
              "<table border=\"1\" class=\"dataframe\">\n",
              "  <thead>\n",
              "    <tr style=\"text-align: right;\">\n",
              "      <th></th>\n",
              "      <th>감정_대분류</th>\n",
              "      <th>sentence</th>\n",
              "    </tr>\n",
              "  </thead>\n",
              "  <tbody>\n",
              "    <tr>\n",
              "      <th>0</th>\n",
              "      <td>기쁨</td>\n",
              "      <td>지금 난 기분이 너무 좋아. 오늘부터 연휴가 시작됐거든. 내일 회사 안 간다. 그냥...</td>\n",
              "    </tr>\n",
              "    <tr>\n",
              "      <th>1</th>\n",
              "      <td>기쁨</td>\n",
              "      <td>나도 조카가 생겨! 너무 기뻐. 응. 언니에게 꽃다발을 선물할 거야. 예쁜 딸이면 ...</td>\n",
              "    </tr>\n",
              "    <tr>\n",
              "      <th>2</th>\n",
              "      <td>불안</td>\n",
              "      <td>거래처와의 다음 계약이 무산될까봐 불안해. 딱히 이유는 없어. 그냥 나 혼자 불안한...</td>\n",
              "    </tr>\n",
              "    <tr>\n",
              "      <th>3</th>\n",
              "      <td>슬픔</td>\n",
              "      <td>당뇨로 고생 중인데 아내가 이혼하자더군. 아내가 날 버리면 병은 더 악화될 텐데 세...</td>\n",
              "    </tr>\n",
              "    <tr>\n",
              "      <th>4</th>\n",
              "      <td>슬픔</td>\n",
              "      <td>노년에 재정적으로 이루어 놓은게 없어서 걱정이야. 정말이지 막막해.</td>\n",
              "    </tr>\n",
              "    <tr>\n",
              "      <th>...</th>\n",
              "      <td>...</td>\n",
              "      <td>...</td>\n",
              "    </tr>\n",
              "    <tr>\n",
              "      <th>74851</th>\n",
              "      <td>분노</td>\n",
              "      <td>부모님의 건강을 못 지킨 나에게 화가 나. 있는 돈으로 병원비를 지원을 할래.</td>\n",
              "    </tr>\n",
              "    <tr>\n",
              "      <th>74852</th>\n",
              "      <td>상처</td>\n",
              "      <td>요즘 취업 준비하면서 잘사는 집 사람들이 부럽더라. 낙하산으로 들어가고 하니까. 우...</td>\n",
              "    </tr>\n",
              "    <tr>\n",
              "      <th>74853</th>\n",
              "      <td>분노</td>\n",
              "      <td>노인 대상 보험 가입이 거절돼서 화가 나. 나는 나이만 많을 뿐이고 별다른 질병이 ...</td>\n",
              "    </tr>\n",
              "    <tr>\n",
              "      <th>74854</th>\n",
              "      <td>분노</td>\n",
              "      <td>은퇴가 코앞인데 돈 들어갈 곳은 천지네.  집사람은 경력단절 된 지 오래이고 애들은...</td>\n",
              "    </tr>\n",
              "    <tr>\n",
              "      <th>74855</th>\n",
              "      <td>상처</td>\n",
              "      <td>이제 앞으로 어떻게 해야지? 내 공부 도와주는 선생님이 외국이로 가신데. 큰일이야.</td>\n",
              "    </tr>\n",
              "  </tbody>\n",
              "</table>\n",
              "<p>74856 rows × 2 columns</p>\n",
              "</div>\n",
              "      <button class=\"colab-df-convert\" onclick=\"convertToInteractive('df-c33dcc1d-71ba-4525-b4db-d363f8ef6a13')\"\n",
              "              title=\"Convert this dataframe to an interactive table.\"\n",
              "              style=\"display:none;\">\n",
              "        \n",
              "  <svg xmlns=\"http://www.w3.org/2000/svg\" height=\"24px\"viewBox=\"0 0 24 24\"\n",
              "       width=\"24px\">\n",
              "    <path d=\"M0 0h24v24H0V0z\" fill=\"none\"/>\n",
              "    <path d=\"M18.56 5.44l.94 2.06.94-2.06 2.06-.94-2.06-.94-.94-2.06-.94 2.06-2.06.94zm-11 1L8.5 8.5l.94-2.06 2.06-.94-2.06-.94L8.5 2.5l-.94 2.06-2.06.94zm10 10l.94 2.06.94-2.06 2.06-.94-2.06-.94-.94-2.06-.94 2.06-2.06.94z\"/><path d=\"M17.41 7.96l-1.37-1.37c-.4-.4-.92-.59-1.43-.59-.52 0-1.04.2-1.43.59L10.3 9.45l-7.72 7.72c-.78.78-.78 2.05 0 2.83L4 21.41c.39.39.9.59 1.41.59.51 0 1.02-.2 1.41-.59l7.78-7.78 2.81-2.81c.8-.78.8-2.07 0-2.86zM5.41 20L4 18.59l7.72-7.72 1.47 1.35L5.41 20z\"/>\n",
              "  </svg>\n",
              "      </button>\n",
              "      \n",
              "  <style>\n",
              "    .colab-df-container {\n",
              "      display:flex;\n",
              "      flex-wrap:wrap;\n",
              "      gap: 12px;\n",
              "    }\n",
              "\n",
              "    .colab-df-convert {\n",
              "      background-color: #E8F0FE;\n",
              "      border: none;\n",
              "      border-radius: 50%;\n",
              "      cursor: pointer;\n",
              "      display: none;\n",
              "      fill: #1967D2;\n",
              "      height: 32px;\n",
              "      padding: 0 0 0 0;\n",
              "      width: 32px;\n",
              "    }\n",
              "\n",
              "    .colab-df-convert:hover {\n",
              "      background-color: #E2EBFA;\n",
              "      box-shadow: 0px 1px 2px rgba(60, 64, 67, 0.3), 0px 1px 3px 1px rgba(60, 64, 67, 0.15);\n",
              "      fill: #174EA6;\n",
              "    }\n",
              "\n",
              "    [theme=dark] .colab-df-convert {\n",
              "      background-color: #3B4455;\n",
              "      fill: #D2E3FC;\n",
              "    }\n",
              "\n",
              "    [theme=dark] .colab-df-convert:hover {\n",
              "      background-color: #434B5C;\n",
              "      box-shadow: 0px 1px 3px 1px rgba(0, 0, 0, 0.15);\n",
              "      filter: drop-shadow(0px 1px 2px rgba(0, 0, 0, 0.3));\n",
              "      fill: #FFFFFF;\n",
              "    }\n",
              "  </style>\n",
              "\n",
              "      <script>\n",
              "        const buttonEl =\n",
              "          document.querySelector('#df-c33dcc1d-71ba-4525-b4db-d363f8ef6a13 button.colab-df-convert');\n",
              "        buttonEl.style.display =\n",
              "          google.colab.kernel.accessAllowed ? 'block' : 'none';\n",
              "\n",
              "        async function convertToInteractive(key) {\n",
              "          const element = document.querySelector('#df-c33dcc1d-71ba-4525-b4db-d363f8ef6a13');\n",
              "          const dataTable =\n",
              "            await google.colab.kernel.invokeFunction('convertToInteractive',\n",
              "                                                     [key], {});\n",
              "          if (!dataTable) return;\n",
              "\n",
              "          const docLinkHtml = 'Like what you see? Visit the ' +\n",
              "            '<a target=\"_blank\" href=https://colab.research.google.com/notebooks/data_table.ipynb>data table notebook</a>'\n",
              "            + ' to learn more about interactive tables.';\n",
              "          element.innerHTML = '';\n",
              "          dataTable['output_type'] = 'display_data';\n",
              "          await google.colab.output.renderOutput(dataTable, element);\n",
              "          const docLink = document.createElement('div');\n",
              "          docLink.innerHTML = docLinkHtml;\n",
              "          element.appendChild(docLink);\n",
              "        }\n",
              "      </script>\n",
              "    </div>\n",
              "  </div>\n",
              "  "
            ],
            "text/plain": [
              "      감정_대분류                                           sentence\n",
              "0         기쁨  지금 난 기분이 너무 좋아. 오늘부터 연휴가 시작됐거든. 내일 회사 안 간다. 그냥...\n",
              "1         기쁨  나도 조카가 생겨! 너무 기뻐. 응. 언니에게 꽃다발을 선물할 거야. 예쁜 딸이면 ...\n",
              "2         불안  거래처와의 다음 계약이 무산될까봐 불안해. 딱히 이유는 없어. 그냥 나 혼자 불안한...\n",
              "3         슬픔  당뇨로 고생 중인데 아내가 이혼하자더군. 아내가 날 버리면 병은 더 악화될 텐데 세...\n",
              "4         슬픔             노년에 재정적으로 이루어 놓은게 없어서 걱정이야. 정말이지 막막해. \n",
              "...      ...                                                ...\n",
              "74851     분노       부모님의 건강을 못 지킨 나에게 화가 나. 있는 돈으로 병원비를 지원을 할래. \n",
              "74852     상처  요즘 취업 준비하면서 잘사는 집 사람들이 부럽더라. 낙하산으로 들어가고 하니까. 우...\n",
              "74853     분노  노인 대상 보험 가입이 거절돼서 화가 나. 나는 나이만 많을 뿐이고 별다른 질병이 ...\n",
              "74854     분노  은퇴가 코앞인데 돈 들어갈 곳은 천지네.  집사람은 경력단절 된 지 오래이고 애들은...\n",
              "74855     상처    이제 앞으로 어떻게 해야지? 내 공부 도와주는 선생님이 외국이로 가신데. 큰일이야. \n",
              "\n",
              "[74856 rows x 2 columns]"
            ]
          },
          "metadata": {},
          "execution_count": 14
        }
      ]
    },
    {
      "cell_type": "code",
      "source": [
        "df_2['사람문장3'] = df_2['사람문장3'].replace('nan', '')\n",
        "df_2['사람문장4'] = df_2['사람문장4'].replace('nan', '')"
      ],
      "metadata": {
        "id": "lByezPgslQ6z"
      },
      "execution_count": null,
      "outputs": []
    },
    {
      "cell_type": "code",
      "source": [
        "df_2['sentence'] = df_2[['사람문장1', '사람문장2', '사람문장3', '사람문장4']].apply(' '.join, axis=1)\n",
        "\n",
        "df_clone_2 = df_2[['감정_대분류', 'sentence']]\n",
        "df_clone_2['감정_대분류'].value_counts()"
      ],
      "metadata": {
        "colab": {
          "base_uri": "https://localhost:8080/"
        },
        "id": "wZKu7OwihuVu",
        "outputId": "b2e61758-1da7-44fe-e6d7-73210ac46934"
      },
      "execution_count": null,
      "outputs": [
        {
          "output_type": "execute_result",
          "data": {
            "text/plain": [
              "불안     7328\n",
              "분노     6920\n",
              "슬픔     6915\n",
              "기쁨     6730\n",
              "상처     6624\n",
              "당황     6360\n",
              "불안        1\n",
              "기쁨        1\n",
              "Name: 감정_대분류, dtype: int64"
            ]
          },
          "metadata": {},
          "execution_count": 16
        }
      ]
    },
    {
      "cell_type": "code",
      "source": [
        "df_clone_2.groupby(['감정_대분류']).count()\n",
        "\n",
        "class_group = df_clone_2.groupby(['감정_대분류'])\n",
        "class_group.groups"
      ],
      "metadata": {
        "colab": {
          "base_uri": "https://localhost:8080/"
        },
        "id": "w4Ya-zwcqIk1",
        "outputId": "552ff633-c009-40ed-a185-b0d1168fd776"
      },
      "execution_count": null,
      "outputs": [
        {
          "output_type": "execute_result",
          "data": {
            "text/plain": [
              "{'기쁨': [0, 3, 4, 14, 23, 35, 42, 56, 61, 63, 65, 66, 74, 77, 81, 90, 92, 93, 103, 109, 146, 147, 159, 163, 165, 179, 180, 198, 199, 205, 206, 207, 210, 220, 227, 229, 248, 250, 257, 261, 263, 267, 271, 283, 295, 301, 302, 304, 309, 313, 330, 335, 340, 364, 367, 377, 378, 388, 391, 400, 403, 414, 419, 425, 426, 427, 429, 431, 438, 440, 443, 444, 452, 464, 474, 481, 502, 513, 519, 522, 526, 540, 542, 543, 545, 550, 558, 563, 564, 567, 576, 577, 586, 604, 605, 611, 612, 624, 625, 630, ...], '기쁨 ': [35511], '당황': [2, 11, 12, 22, 24, 29, 50, 52, 64, 67, 70, 78, 86, 95, 101, 108, 111, 116, 126, 129, 131, 132, 136, 141, 143, 145, 149, 151, 154, 164, 169, 170, 172, 173, 183, 192, 194, 200, 203, 208, 209, 213, 219, 226, 233, 235, 241, 253, 255, 268, 269, 276, 280, 294, 299, 307, 308, 311, 315, 316, 317, 325, 327, 331, 336, 343, 344, 347, 357, 359, 382, 387, 390, 393, 406, 408, 421, 434, 437, 458, 459, 460, 466, 470, 473, 478, 482, 486, 488, 491, 495, 500, 505, 507, 508, 516, 533, 536, 538, 549, ...], '분노': [7, 8, 15, 17, 21, 27, 34, 41, 43, 45, 58, 68, 79, 82, 102, 114, 119, 120, 121, 122, 124, 127, 138, 139, 140, 150, 156, 160, 162, 175, 177, 189, 190, 195, 201, 218, 232, 238, 239, 249, 254, 270, 274, 284, 288, 289, 292, 293, 297, 303, 305, 306, 318, 321, 323, 332, 337, 352, 366, 368, 372, 376, 395, 402, 407, 411, 417, 420, 430, 441, 449, 454, 455, 456, 463, 465, 468, 472, 475, 490, 496, 503, 510, 511, 527, 535, 541, 547, 556, 559, 572, 581, 590, 607, 609, 618, 620, 621, 643, 645, ...], '불안': [1, 5, 13, 16, 19, 26, 30, 31, 33, 37, 39, 40, 44, 55, 59, 76, 80, 83, 84, 85, 87, 89, 94, 98, 99, 100, 104, 106, 113, 123, 137, 144, 152, 153, 157, 181, 182, 184, 188, 212, 228, 230, 231, 234, 242, 245, 247, 258, 260, 266, 275, 279, 282, 287, 298, 312, 320, 322, 326, 328, 329, 342, 355, 363, 369, 374, 379, 398, 405, 415, 423, 424, 433, 439, 442, 445, 457, 461, 479, 483, 487, 493, 499, 512, 524, 528, 532, 539, 548, 553, 566, 570, 575, 584, 587, 589, 595, 596, 598, 600, ...], '불안 ': [34527], '상처': [10, 36, 38, 46, 53, 60, 69, 71, 72, 91, 96, 97, 110, 112, 115, 125, 130, 135, 142, 148, 158, 161, 166, 171, 187, 196, 197, 202, 211, 215, 216, 217, 222, 225, 237, 240, 252, 259, 265, 272, 273, 277, 281, 286, 290, 291, 310, 314, 339, 345, 346, 349, 353, 354, 356, 358, 371, 375, 380, 385, 386, 392, 404, 410, 412, 413, 428, 435, 436, 446, 451, 453, 467, 471, 477, 480, 484, 485, 492, 494, 497, 504, 506, 509, 514, 518, 520, 523, 525, 529, 534, 544, 546, 554, 561, 562, 569, 574, 578, 579, ...], '슬픔': [6, 9, 18, 20, 25, 28, 32, 47, 48, 49, 51, 54, 57, 62, 73, 75, 88, 105, 107, 117, 118, 128, 133, 134, 155, 167, 168, 174, 176, 178, 185, 186, 191, 193, 204, 214, 221, 223, 224, 236, 243, 244, 246, 251, 256, 262, 264, 278, 285, 296, 300, 319, 324, 333, 334, 338, 341, 348, 350, 351, 360, 361, 362, 365, 370, 373, 381, 383, 384, 389, 394, 396, 397, 399, 401, 409, 416, 418, 422, 432, 447, 448, 450, 462, 469, 476, 489, 498, 501, 515, 517, 521, 530, 531, 537, 551, 557, 560, 582, 583, ...]}"
            ]
          },
          "metadata": {},
          "execution_count": 17
        }
      ]
    },
    {
      "cell_type": "code",
      "source": [
        "df_clone_3 = df_clone_2.drop([df_clone_2.index[35511], df_clone_2.index[34527]])\n",
        "df_clone_3['감정_대분류'].value_counts()"
      ],
      "metadata": {
        "colab": {
          "base_uri": "https://localhost:8080/"
        },
        "id": "AQXqfvSitv4w",
        "outputId": "be3a8cb5-ff08-49f0-c49b-9e79f8329a99"
      },
      "execution_count": null,
      "outputs": [
        {
          "output_type": "execute_result",
          "data": {
            "text/plain": [
              "불안    7328\n",
              "분노    6920\n",
              "슬픔    6915\n",
              "기쁨    6730\n",
              "상처    6624\n",
              "당황    6360\n",
              "Name: 감정_대분류, dtype: int64"
            ]
          },
          "metadata": {},
          "execution_count": 18
        }
      ]
    },
    {
      "cell_type": "code",
      "source": [
        "from sklearn.preprocessing import LabelEncoder\n",
        "\n",
        "encoder = LabelEncoder()\n",
        "\n",
        "encoder.fit(df_clone_1['감정_대분류'])\n",
        "labels = encoder.transform(df_clone_1['감정_대분류'])\n",
        "\n",
        "print(encoder.inverse_transform([0,1,2,3,4,5]))\n",
        "\n",
        "df_clone_1['감정_대분류'] = labels\n",
        "\n",
        "print(df_clone_1['감정_대분류'].value_counts())\n",
        "\n",
        "\n",
        "encoder = LabelEncoder()\n",
        "\n",
        "encoder.fit(df_clone_3['감정_대분류'])\n",
        "labels = encoder.transform(df_clone_3['감정_대분류'])\n",
        "\n",
        "print(encoder.inverse_transform([0,1,2,3,4,5]))\n",
        "\n",
        "df_clone_3['감정_대분류'] = labels\n",
        "\n",
        "print(df_clone_3['감정_대분류'].value_counts())"
      ],
      "metadata": {
        "colab": {
          "base_uri": "https://localhost:8080/"
        },
        "id": "Zb0VNuXU4yHV",
        "outputId": "c3bb07e1-be84-45f7-910d-693233218c72"
      },
      "execution_count": null,
      "outputs": [
        {
          "output_type": "stream",
          "name": "stdout",
          "text": [
            "['기쁨' '당황' '분노' '불안' '상처' '슬픔']\n",
            "4    13505\n",
            "5    12708\n",
            "2    12503\n",
            "0    12449\n",
            "3    12383\n",
            "1    11308\n",
            "Name: 감정_대분류, dtype: int64\n",
            "['기쁨' '당황' '분노' '불안' '상처' '슬픔']\n",
            "3    7328\n",
            "2    6920\n",
            "5    6915\n",
            "0    6730\n",
            "4    6624\n",
            "1    6360\n",
            "Name: 감정_대분류, dtype: int64\n"
          ]
        },
        {
          "output_type": "stream",
          "name": "stderr",
          "text": [
            "/usr/local/lib/python3.7/dist-packages/ipykernel_launcher.py:10: SettingWithCopyWarning: \n",
            "A value is trying to be set on a copy of a slice from a DataFrame.\n",
            "Try using .loc[row_indexer,col_indexer] = value instead\n",
            "\n",
            "See the caveats in the documentation: https://pandas.pydata.org/pandas-docs/stable/user_guide/indexing.html#returning-a-view-versus-a-copy\n",
            "  # Remove the CWD from sys.path while we load stuff.\n"
          ]
        }
      ]
    },
    {
      "cell_type": "code",
      "source": [
        "import re\n",
        "\n",
        "def apply_regular(text):\n",
        "    hangul = re.compile('[^ ㄱ-ㅣ가-힣+]')\n",
        "    result = hangul.sub('', text)\n",
        "    return result"
      ],
      "metadata": {
        "id": "BowsVJ-Dul_S"
      },
      "execution_count": null,
      "outputs": []
    },
    {
      "cell_type": "code",
      "source": [
        "df_clone_1['sentence_2'] = df_clone_1['sentence'].apply(apply_regular)\n",
        "\n",
        "df_clone_1\n",
        "\n",
        "df_clone_3['sentence_2'] = df_clone_3['sentence'].apply(apply_regular)\n",
        "\n",
        "df_clone_3"
      ],
      "metadata": {
        "colab": {
          "base_uri": "https://localhost:8080/",
          "height": 534
        },
        "id": "rgR-aprpw4o-",
        "outputId": "33ff4b66-7b91-410c-baab-6c972fb62747"
      },
      "execution_count": null,
      "outputs": [
        {
          "output_type": "stream",
          "name": "stderr",
          "text": [
            "/usr/local/lib/python3.7/dist-packages/ipykernel_launcher.py:1: SettingWithCopyWarning: \n",
            "A value is trying to be set on a copy of a slice from a DataFrame.\n",
            "Try using .loc[row_indexer,col_indexer] = value instead\n",
            "\n",
            "See the caveats in the documentation: https://pandas.pydata.org/pandas-docs/stable/user_guide/indexing.html#returning-a-view-versus-a-copy\n",
            "  \"\"\"Entry point for launching an IPython kernel.\n"
          ]
        },
        {
          "output_type": "execute_result",
          "data": {
            "text/html": [
              "\n",
              "  <div id=\"df-8c9b3ae0-980e-4e5e-9250-841bd80d4fa4\">\n",
              "    <div class=\"colab-df-container\">\n",
              "      <div>\n",
              "<style scoped>\n",
              "    .dataframe tbody tr th:only-of-type {\n",
              "        vertical-align: middle;\n",
              "    }\n",
              "\n",
              "    .dataframe tbody tr th {\n",
              "        vertical-align: top;\n",
              "    }\n",
              "\n",
              "    .dataframe thead th {\n",
              "        text-align: right;\n",
              "    }\n",
              "</style>\n",
              "<table border=\"1\" class=\"dataframe\">\n",
              "  <thead>\n",
              "    <tr style=\"text-align: right;\">\n",
              "      <th></th>\n",
              "      <th>감정_대분류</th>\n",
              "      <th>sentence</th>\n",
              "      <th>sentence_2</th>\n",
              "    </tr>\n",
              "  </thead>\n",
              "  <tbody>\n",
              "    <tr>\n",
              "      <th>0</th>\n",
              "      <td>0</td>\n",
              "      <td>아내가 드디어 출산하게 되어서 정말 신이 나. 아 지금 정말 신이 나. 아기가 점점...</td>\n",
              "      <td>아내가 드디어 출산하게 되어서 정말 신이 나 아 지금 정말 신이 나 아기가 점점 클...</td>\n",
              "    </tr>\n",
              "    <tr>\n",
              "      <th>1</th>\n",
              "      <td>3</td>\n",
              "      <td>당뇨랑 합병증 때문에 먹어야 할 약이 열 가지가 넘어가니까 스트레스야. 건강할 때 ...</td>\n",
              "      <td>당뇨랑 합병증 때문에 먹어야 할 약이 열 가지가 넘어가니까 스트레스야 건강할 때 관...</td>\n",
              "    </tr>\n",
              "    <tr>\n",
              "      <th>2</th>\n",
              "      <td>1</td>\n",
              "      <td>고등학교에 올라오니 중학교 때보다 수업이 갑자기 어려워져서 당황스러워. 아직 학기 ...</td>\n",
              "      <td>고등학교에 올라오니 중학교 때보다 수업이 갑자기 어려워져서 당황스러워 아직 학기 초...</td>\n",
              "    </tr>\n",
              "    <tr>\n",
              "      <th>3</th>\n",
              "      <td>0</td>\n",
              "      <td>재취업이 돼서 받게 된 첫 월급으로 온 가족이 외식을 할 예정이야. 너무 행복해. ...</td>\n",
              "      <td>재취업이 돼서 받게 된 첫 월급으로 온 가족이 외식을 할 예정이야 너무 행복해 퇴직...</td>\n",
              "    </tr>\n",
              "    <tr>\n",
              "      <th>4</th>\n",
              "      <td>0</td>\n",
              "      <td>빚을 드디어 다 갚게 되어서 이제야 안도감이 들어. 빚도 다 갚았으니 당분간은 아무...</td>\n",
              "      <td>빚을 드디어 다 갚게 되어서 이제야 안도감이 들어 빚도 다 갚았으니 당분간은 아무 ...</td>\n",
              "    </tr>\n",
              "    <tr>\n",
              "      <th>...</th>\n",
              "      <td>...</td>\n",
              "      <td>...</td>\n",
              "      <td>...</td>\n",
              "    </tr>\n",
              "    <tr>\n",
              "      <th>40874</th>\n",
              "      <td>3</td>\n",
              "      <td>같이 사는 친구가 애완견을 데려왔는데 대부분 내가 돌보고 있어. 내가 주인인가 혼란...</td>\n",
              "      <td>같이 사는 친구가 애완견을 데려왔는데 대부분 내가 돌보고 있어 내가 주인인가 혼란스...</td>\n",
              "    </tr>\n",
              "    <tr>\n",
              "      <th>40875</th>\n",
              "      <td>0</td>\n",
              "      <td>지난주에 건강검진 결과가 나왔는데 정상이라고 결과가 나왔어. 결과가 좋게 나와서 다...</td>\n",
              "      <td>지난주에 건강검진 결과가 나왔는데 정상이라고 결과가 나왔어 결과가 좋게 나와서 다행...</td>\n",
              "    </tr>\n",
              "    <tr>\n",
              "      <th>40876</th>\n",
              "      <td>5</td>\n",
              "      <td>엄마는 내 꿈인 작가를 응원해 주고는 했는데 지금은 안 그래. 너무 슬퍼. 내 재능...</td>\n",
              "      <td>엄마는 내 꿈인 작가를 응원해 주고는 했는데 지금은 안 그래 너무 슬퍼 내 재능이 ...</td>\n",
              "    </tr>\n",
              "    <tr>\n",
              "      <th>40877</th>\n",
              "      <td>0</td>\n",
              "      <td>이렇게 좋은 운동 시설에서 경로 우대로 운동할 수 있다니 참 행운이야. 덕분에 건강...</td>\n",
              "      <td>이렇게 좋은 운동 시설에서 경로 우대로 운동할 수 있다니 참 행운이야 덕분에 건강도...</td>\n",
              "    </tr>\n",
              "    <tr>\n",
              "      <th>40878</th>\n",
              "      <td>3</td>\n",
              "      <td>친구 관계가 너무 힘들어. 베푸는 만큼 돌아오지 않는 것 같아. 카페에 가서 대화하...</td>\n",
              "      <td>친구 관계가 너무 힘들어 베푸는 만큼 돌아오지 않는 것 같아 카페에 가서 대화하거나...</td>\n",
              "    </tr>\n",
              "  </tbody>\n",
              "</table>\n",
              "<p>40877 rows × 3 columns</p>\n",
              "</div>\n",
              "      <button class=\"colab-df-convert\" onclick=\"convertToInteractive('df-8c9b3ae0-980e-4e5e-9250-841bd80d4fa4')\"\n",
              "              title=\"Convert this dataframe to an interactive table.\"\n",
              "              style=\"display:none;\">\n",
              "        \n",
              "  <svg xmlns=\"http://www.w3.org/2000/svg\" height=\"24px\"viewBox=\"0 0 24 24\"\n",
              "       width=\"24px\">\n",
              "    <path d=\"M0 0h24v24H0V0z\" fill=\"none\"/>\n",
              "    <path d=\"M18.56 5.44l.94 2.06.94-2.06 2.06-.94-2.06-.94-.94-2.06-.94 2.06-2.06.94zm-11 1L8.5 8.5l.94-2.06 2.06-.94-2.06-.94L8.5 2.5l-.94 2.06-2.06.94zm10 10l.94 2.06.94-2.06 2.06-.94-2.06-.94-.94-2.06-.94 2.06-2.06.94z\"/><path d=\"M17.41 7.96l-1.37-1.37c-.4-.4-.92-.59-1.43-.59-.52 0-1.04.2-1.43.59L10.3 9.45l-7.72 7.72c-.78.78-.78 2.05 0 2.83L4 21.41c.39.39.9.59 1.41.59.51 0 1.02-.2 1.41-.59l7.78-7.78 2.81-2.81c.8-.78.8-2.07 0-2.86zM5.41 20L4 18.59l7.72-7.72 1.47 1.35L5.41 20z\"/>\n",
              "  </svg>\n",
              "      </button>\n",
              "      \n",
              "  <style>\n",
              "    .colab-df-container {\n",
              "      display:flex;\n",
              "      flex-wrap:wrap;\n",
              "      gap: 12px;\n",
              "    }\n",
              "\n",
              "    .colab-df-convert {\n",
              "      background-color: #E8F0FE;\n",
              "      border: none;\n",
              "      border-radius: 50%;\n",
              "      cursor: pointer;\n",
              "      display: none;\n",
              "      fill: #1967D2;\n",
              "      height: 32px;\n",
              "      padding: 0 0 0 0;\n",
              "      width: 32px;\n",
              "    }\n",
              "\n",
              "    .colab-df-convert:hover {\n",
              "      background-color: #E2EBFA;\n",
              "      box-shadow: 0px 1px 2px rgba(60, 64, 67, 0.3), 0px 1px 3px 1px rgba(60, 64, 67, 0.15);\n",
              "      fill: #174EA6;\n",
              "    }\n",
              "\n",
              "    [theme=dark] .colab-df-convert {\n",
              "      background-color: #3B4455;\n",
              "      fill: #D2E3FC;\n",
              "    }\n",
              "\n",
              "    [theme=dark] .colab-df-convert:hover {\n",
              "      background-color: #434B5C;\n",
              "      box-shadow: 0px 1px 3px 1px rgba(0, 0, 0, 0.15);\n",
              "      filter: drop-shadow(0px 1px 2px rgba(0, 0, 0, 0.3));\n",
              "      fill: #FFFFFF;\n",
              "    }\n",
              "  </style>\n",
              "\n",
              "      <script>\n",
              "        const buttonEl =\n",
              "          document.querySelector('#df-8c9b3ae0-980e-4e5e-9250-841bd80d4fa4 button.colab-df-convert');\n",
              "        buttonEl.style.display =\n",
              "          google.colab.kernel.accessAllowed ? 'block' : 'none';\n",
              "\n",
              "        async function convertToInteractive(key) {\n",
              "          const element = document.querySelector('#df-8c9b3ae0-980e-4e5e-9250-841bd80d4fa4');\n",
              "          const dataTable =\n",
              "            await google.colab.kernel.invokeFunction('convertToInteractive',\n",
              "                                                     [key], {});\n",
              "          if (!dataTable) return;\n",
              "\n",
              "          const docLinkHtml = 'Like what you see? Visit the ' +\n",
              "            '<a target=\"_blank\" href=https://colab.research.google.com/notebooks/data_table.ipynb>data table notebook</a>'\n",
              "            + ' to learn more about interactive tables.';\n",
              "          element.innerHTML = '';\n",
              "          dataTable['output_type'] = 'display_data';\n",
              "          await google.colab.output.renderOutput(dataTable, element);\n",
              "          const docLink = document.createElement('div');\n",
              "          docLink.innerHTML = docLinkHtml;\n",
              "          element.appendChild(docLink);\n",
              "        }\n",
              "      </script>\n",
              "    </div>\n",
              "  </div>\n",
              "  "
            ],
            "text/plain": [
              "       감정_대분류  ...                                         sentence_2\n",
              "0           0  ...  아내가 드디어 출산하게 되어서 정말 신이 나 아 지금 정말 신이 나 아기가 점점 클...\n",
              "1           3  ...  당뇨랑 합병증 때문에 먹어야 할 약이 열 가지가 넘어가니까 스트레스야 건강할 때 관...\n",
              "2           1  ...  고등학교에 올라오니 중학교 때보다 수업이 갑자기 어려워져서 당황스러워 아직 학기 초...\n",
              "3           0  ...  재취업이 돼서 받게 된 첫 월급으로 온 가족이 외식을 할 예정이야 너무 행복해 퇴직...\n",
              "4           0  ...  빚을 드디어 다 갚게 되어서 이제야 안도감이 들어 빚도 다 갚았으니 당분간은 아무 ...\n",
              "...       ...  ...                                                ...\n",
              "40874       3  ...  같이 사는 친구가 애완견을 데려왔는데 대부분 내가 돌보고 있어 내가 주인인가 혼란스...\n",
              "40875       0  ...  지난주에 건강검진 결과가 나왔는데 정상이라고 결과가 나왔어 결과가 좋게 나와서 다행...\n",
              "40876       5  ...  엄마는 내 꿈인 작가를 응원해 주고는 했는데 지금은 안 그래 너무 슬퍼 내 재능이 ...\n",
              "40877       0  ...  이렇게 좋은 운동 시설에서 경로 우대로 운동할 수 있다니 참 행운이야 덕분에 건강도...\n",
              "40878       3  ...  친구 관계가 너무 힘들어 베푸는 만큼 돌아오지 않는 것 같아 카페에 가서 대화하거나...\n",
              "\n",
              "[40877 rows x 3 columns]"
            ]
          },
          "metadata": {},
          "execution_count": 21
        }
      ]
    },
    {
      "cell_type": "code",
      "source": [
        "df_clone_1.to_csv('/content/drive/MyDrive/Colab Notebooks/P4/train_data.tsv', sep='\\t')\n",
        "df_clone_3.to_csv('/content/drive/MyDrive/Colab Notebooks/P4/test_data.tsv', sep='\\t')"
      ],
      "metadata": {
        "id": "MFMSAi-03ACu"
      },
      "execution_count": null,
      "outputs": []
    },
    {
      "cell_type": "code",
      "execution_count": null,
      "metadata": {
        "id": "y81YQauUm0Id"
      },
      "outputs": [],
      "source": [
        "dataset_train = nlp.data.TSVDataset(\"/content/drive/MyDrive/Colab Notebooks/P4/test_data.tsv\", field_indices=[1, 0], num_discard_samples=1)\n",
        "dataset_test = nlp.data.TSVDataset(\"/content/drive/MyDrive/Colab Notebooks/P4/test_data.tsv\", field_indices=[1, 0], num_discard_samples=1)"
      ]
    },
    {
      "cell_type": "code",
      "execution_count": null,
      "metadata": {
        "id": "6bvtnpGPm0Ie",
        "colab": {
          "base_uri": "https://localhost:8080/"
        },
        "outputId": "84fd53f4-0d63-4787-c2e6-0826be27639d"
      },
      "outputs": [
        {
          "output_type": "stream",
          "name": "stdout",
          "text": [
            "using cached model. /content/.cache/kobert_news_wiki_ko_cased-1087f8699e.spiece\n"
          ]
        }
      ],
      "source": [
        "tokenizer = get_tokenizer()\n",
        "tok = nlp.data.BERTSPTokenizer(tokenizer, vocab, lower=False)"
      ]
    },
    {
      "cell_type": "code",
      "execution_count": null,
      "metadata": {
        "id": "ZY463KWQm0Ie"
      },
      "outputs": [],
      "source": [
        "class BERTDataset(Dataset):\n",
        "    def __init__(self, dataset, sent_idx, label_idx, bert_tokenizer, max_len,\n",
        "                 pad, pair):\n",
        "        transform = nlp.data.BERTSentenceTransform(\n",
        "            bert_tokenizer, max_seq_length=max_len, pad=pad, pair=pair)\n",
        "\n",
        "        self.sentences = [transform([i[sent_idx]]) for i in dataset]\n",
        "        self.labels = [np.int32(i[label_idx]) for i in dataset]\n",
        "\n",
        "    def __getitem__(self, i):\n",
        "        return (self.sentences[i] + (self.labels[i], ))\n",
        "\n",
        "    def __len__(self):\n",
        "        return (len(self.labels))\n"
      ]
    },
    {
      "cell_type": "code",
      "execution_count": null,
      "metadata": {
        "id": "f-ZHrdEFm0If"
      },
      "outputs": [],
      "source": [
        "## Setting parameters\n",
        "max_len = 64\n",
        "batch_size = 64\n",
        "warmup_ratio = 0.1\n",
        "num_epochs = 5\n",
        "max_grad_norm = 1\n",
        "log_interval = 200\n",
        "learning_rate =  5e-5"
      ]
    },
    {
      "cell_type": "code",
      "execution_count": null,
      "metadata": {
        "id": "pGtNwImEm0If",
        "colab": {
          "base_uri": "https://localhost:8080/",
          "height": 345
        },
        "outputId": "dc9248a3-0e60-4445-85fb-0cfc5126fe6d"
      },
      "outputs": [
        {
          "output_type": "error",
          "ename": "ValueError",
          "evalue": "ignored",
          "traceback": [
            "\u001b[0;31m---------------------------------------------------------------------------\u001b[0m",
            "\u001b[0;31mValueError\u001b[0m                                Traceback (most recent call last)",
            "\u001b[0;32m<ipython-input-27-bca58955ac96>\u001b[0m in \u001b[0;36m<module>\u001b[0;34m()\u001b[0m\n\u001b[0;32m----> 1\u001b[0;31m \u001b[0mdata_train\u001b[0m \u001b[0;34m=\u001b[0m \u001b[0mBERTDataset\u001b[0m\u001b[0;34m(\u001b[0m\u001b[0mdataset_train\u001b[0m\u001b[0;34m,\u001b[0m \u001b[0;36m0\u001b[0m\u001b[0;34m,\u001b[0m \u001b[0;36m1\u001b[0m\u001b[0;34m,\u001b[0m \u001b[0mtok\u001b[0m\u001b[0;34m,\u001b[0m \u001b[0mmax_len\u001b[0m\u001b[0;34m,\u001b[0m \u001b[0;32mTrue\u001b[0m\u001b[0;34m,\u001b[0m \u001b[0;32mFalse\u001b[0m\u001b[0;34m)\u001b[0m\u001b[0;34m\u001b[0m\u001b[0;34m\u001b[0m\u001b[0m\n\u001b[0m\u001b[1;32m      2\u001b[0m \u001b[0mdata_test\u001b[0m \u001b[0;34m=\u001b[0m \u001b[0mBERTDataset\u001b[0m\u001b[0;34m(\u001b[0m\u001b[0mdataset_test\u001b[0m\u001b[0;34m,\u001b[0m \u001b[0;36m0\u001b[0m\u001b[0;34m,\u001b[0m \u001b[0;36m1\u001b[0m\u001b[0;34m,\u001b[0m \u001b[0mtok\u001b[0m\u001b[0;34m,\u001b[0m \u001b[0mmax_len\u001b[0m\u001b[0;34m,\u001b[0m \u001b[0;32mTrue\u001b[0m\u001b[0;34m,\u001b[0m \u001b[0;32mFalse\u001b[0m\u001b[0;34m)\u001b[0m\u001b[0;34m\u001b[0m\u001b[0;34m\u001b[0m\u001b[0m\n",
            "\u001b[0;32m<ipython-input-25-a9b1e492c2b1>\u001b[0m in \u001b[0;36m__init__\u001b[0;34m(self, dataset, sent_idx, label_idx, bert_tokenizer, max_len, pad, pair)\u001b[0m\n\u001b[1;32m      6\u001b[0m \u001b[0;34m\u001b[0m\u001b[0m\n\u001b[1;32m      7\u001b[0m         \u001b[0mself\u001b[0m\u001b[0;34m.\u001b[0m\u001b[0msentences\u001b[0m \u001b[0;34m=\u001b[0m \u001b[0;34m[\u001b[0m\u001b[0mtransform\u001b[0m\u001b[0;34m(\u001b[0m\u001b[0;34m[\u001b[0m\u001b[0mi\u001b[0m\u001b[0;34m[\u001b[0m\u001b[0msent_idx\u001b[0m\u001b[0;34m]\u001b[0m\u001b[0;34m]\u001b[0m\u001b[0;34m)\u001b[0m \u001b[0;32mfor\u001b[0m \u001b[0mi\u001b[0m \u001b[0;32min\u001b[0m \u001b[0mdataset\u001b[0m\u001b[0;34m]\u001b[0m\u001b[0;34m\u001b[0m\u001b[0;34m\u001b[0m\u001b[0m\n\u001b[0;32m----> 8\u001b[0;31m         \u001b[0mself\u001b[0m\u001b[0;34m.\u001b[0m\u001b[0mlabels\u001b[0m \u001b[0;34m=\u001b[0m \u001b[0;34m[\u001b[0m\u001b[0mnp\u001b[0m\u001b[0;34m.\u001b[0m\u001b[0mint32\u001b[0m\u001b[0;34m(\u001b[0m\u001b[0mi\u001b[0m\u001b[0;34m[\u001b[0m\u001b[0mlabel_idx\u001b[0m\u001b[0;34m]\u001b[0m\u001b[0;34m)\u001b[0m \u001b[0;32mfor\u001b[0m \u001b[0mi\u001b[0m \u001b[0;32min\u001b[0m \u001b[0mdataset\u001b[0m\u001b[0;34m]\u001b[0m\u001b[0;34m\u001b[0m\u001b[0;34m\u001b[0m\u001b[0m\n\u001b[0m\u001b[1;32m      9\u001b[0m \u001b[0;34m\u001b[0m\u001b[0m\n\u001b[1;32m     10\u001b[0m     \u001b[0;32mdef\u001b[0m \u001b[0m__getitem__\u001b[0m\u001b[0;34m(\u001b[0m\u001b[0mself\u001b[0m\u001b[0;34m,\u001b[0m \u001b[0mi\u001b[0m\u001b[0;34m)\u001b[0m\u001b[0;34m:\u001b[0m\u001b[0;34m\u001b[0m\u001b[0;34m\u001b[0m\u001b[0m\n",
            "\u001b[0;32m<ipython-input-25-a9b1e492c2b1>\u001b[0m in \u001b[0;36m<listcomp>\u001b[0;34m(.0)\u001b[0m\n\u001b[1;32m      6\u001b[0m \u001b[0;34m\u001b[0m\u001b[0m\n\u001b[1;32m      7\u001b[0m         \u001b[0mself\u001b[0m\u001b[0;34m.\u001b[0m\u001b[0msentences\u001b[0m \u001b[0;34m=\u001b[0m \u001b[0;34m[\u001b[0m\u001b[0mtransform\u001b[0m\u001b[0;34m(\u001b[0m\u001b[0;34m[\u001b[0m\u001b[0mi\u001b[0m\u001b[0;34m[\u001b[0m\u001b[0msent_idx\u001b[0m\u001b[0;34m]\u001b[0m\u001b[0;34m]\u001b[0m\u001b[0;34m)\u001b[0m \u001b[0;32mfor\u001b[0m \u001b[0mi\u001b[0m \u001b[0;32min\u001b[0m \u001b[0mdataset\u001b[0m\u001b[0;34m]\u001b[0m\u001b[0;34m\u001b[0m\u001b[0;34m\u001b[0m\u001b[0m\n\u001b[0;32m----> 8\u001b[0;31m         \u001b[0mself\u001b[0m\u001b[0;34m.\u001b[0m\u001b[0mlabels\u001b[0m \u001b[0;34m=\u001b[0m \u001b[0;34m[\u001b[0m\u001b[0mnp\u001b[0m\u001b[0;34m.\u001b[0m\u001b[0mint32\u001b[0m\u001b[0;34m(\u001b[0m\u001b[0mi\u001b[0m\u001b[0;34m[\u001b[0m\u001b[0mlabel_idx\u001b[0m\u001b[0;34m]\u001b[0m\u001b[0;34m)\u001b[0m \u001b[0;32mfor\u001b[0m \u001b[0mi\u001b[0m \u001b[0;32min\u001b[0m \u001b[0mdataset\u001b[0m\u001b[0;34m]\u001b[0m\u001b[0;34m\u001b[0m\u001b[0;34m\u001b[0m\u001b[0m\n\u001b[0m\u001b[1;32m      9\u001b[0m \u001b[0;34m\u001b[0m\u001b[0m\n\u001b[1;32m     10\u001b[0m     \u001b[0;32mdef\u001b[0m \u001b[0m__getitem__\u001b[0m\u001b[0;34m(\u001b[0m\u001b[0mself\u001b[0m\u001b[0;34m,\u001b[0m \u001b[0mi\u001b[0m\u001b[0;34m)\u001b[0m\u001b[0;34m:\u001b[0m\u001b[0;34m\u001b[0m\u001b[0;34m\u001b[0m\u001b[0m\n",
            "\u001b[0;31mValueError\u001b[0m: invalid literal for int() with base 10: ' \"'"
          ]
        }
      ],
      "source": [
        "data_train = BERTDataset(dataset_train, 0, 1, tok, max_len, True, False)\n",
        "data_test = BERTDataset(dataset_test, 0, 1, tok, max_len, True, False)"
      ]
    },
    {
      "cell_type": "code",
      "execution_count": null,
      "metadata": {
        "id": "qUp_nRqdm0Ig"
      },
      "outputs": [],
      "source": [
        "train_dataloader = torch.utils.data.DataLoader(data_train, batch_size=batch_size, num_workers=5)\n",
        "test_dataloader = torch.utils.data.DataLoader(data_test, batch_size=batch_size, num_workers=5)"
      ]
    },
    {
      "cell_type": "code",
      "execution_count": null,
      "metadata": {
        "id": "IwNDTQR0m0Ig"
      },
      "outputs": [],
      "source": [
        "class BERTClassifier(nn.Module):\n",
        "    def __init__(self,\n",
        "                 bert,\n",
        "                 hidden_size = 768,\n",
        "                 num_classes=6,\n",
        "                 dr_rate=None,\n",
        "                 params=None):\n",
        "        super(BERTClassifier, self).__init__()\n",
        "        self.bert = bert\n",
        "        self.dr_rate = dr_rate\n",
        "                 \n",
        "        self.classifier = nn.Linear(hidden_size , num_classes)\n",
        "        if dr_rate:\n",
        "            self.dropout = nn.Dropout(p=dr_rate)\n",
        "    \n",
        "    def gen_attention_mask(self, token_ids, valid_length):\n",
        "        attention_mask = torch.zeros_like(token_ids)\n",
        "        for i, v in enumerate(valid_length):\n",
        "            attention_mask[i][:v] = 1\n",
        "        return attention_mask.float()\n",
        "\n",
        "    def forward(self, token_ids, valid_length, segment_ids):\n",
        "        attention_mask = self.gen_attention_mask(token_ids, valid_length)\n",
        "        \n",
        "        _, pooler = self.bert(input_ids = token_ids, token_type_ids = segment_ids.long(), attention_mask = attention_mask.float().to(token_ids.device))\n",
        "        if self.dr_rate:\n",
        "            out = self.dropout(pooler)\n",
        "        return self.classifier(out)"
      ]
    },
    {
      "cell_type": "code",
      "execution_count": null,
      "metadata": {
        "id": "64GKIeASm0Ih"
      },
      "outputs": [],
      "source": [
        "model = BERTClassifier(bertmodel,  dr_rate=0.5).to(device)"
      ]
    },
    {
      "cell_type": "code",
      "execution_count": null,
      "metadata": {
        "id": "8xlG2YKZm0Ii"
      },
      "outputs": [],
      "source": [
        "# Prepare optimizer and schedule (linear warmup and decay)\n",
        "no_decay = ['bias', 'LayerNorm.weight']\n",
        "optimizer_grouped_parameters = [\n",
        "    {'params': [p for n, p in model.named_parameters() if not any(nd in n for nd in no_decay)], 'weight_decay': 0.01},\n",
        "    {'params': [p for n, p in model.named_parameters() if any(nd in n for nd in no_decay)], 'weight_decay': 0.0}\n",
        "]"
      ]
    },
    {
      "cell_type": "code",
      "execution_count": null,
      "metadata": {
        "id": "gmBcoXPrm0Ii"
      },
      "outputs": [],
      "source": [
        "optimizer = AdamW(optimizer_grouped_parameters, lr=learning_rate)\n",
        "loss_fn = nn.CrossEntropyLoss()"
      ]
    },
    {
      "cell_type": "code",
      "execution_count": null,
      "metadata": {
        "id": "Z5sHFS4Dm0Ii"
      },
      "outputs": [],
      "source": [
        "t_total = len(train_dataloader) * num_epochs\n",
        "warmup_step = int(t_total * warmup_ratio)"
      ]
    },
    {
      "cell_type": "code",
      "execution_count": null,
      "metadata": {
        "id": "8pZBg3imm0Ij"
      },
      "outputs": [],
      "source": [
        "scheduler = get_cosine_schedule_with_warmup(optimizer, num_warmup_steps=warmup_step, num_training_steps=t_total)"
      ]
    },
    {
      "cell_type": "code",
      "execution_count": null,
      "metadata": {
        "id": "OpGv4Njfm0Ij"
      },
      "outputs": [],
      "source": [
        "def calc_accuracy(X,Y):\n",
        "    max_vals, max_indices = torch.max(X, 1)\n",
        "    train_acc = (max_indices == Y).sum().data.cpu().numpy()/max_indices.size()[0]\n",
        "    return train_acc"
      ]
    },
    {
      "cell_type": "code",
      "execution_count": null,
      "metadata": {
        "id": "hAe2jq1Dm0Ij"
      },
      "outputs": [],
      "source": [
        "for e in range(num_epochs):\n",
        "    train_acc = 0.0\n",
        "    test_acc = 0.0\n",
        "    model.train()\n",
        "    for batch_id, (token_ids, valid_length, segment_ids, label) in tqdm(enumerate(train_dataloader), total=len(train_dataloader)):\n",
        "        optimizer.zero_grad()\n",
        "        token_ids = token_ids.long().to(device)\n",
        "        segment_ids = segment_ids.long().to(device)\n",
        "        valid_length= valid_length\n",
        "        label = label.long().to(device)\n",
        "        out = model(token_ids, valid_length, segment_ids)\n",
        "        loss = loss_fn(out, label)\n",
        "        loss.backward()\n",
        "        torch.nn.utils.clip_grad_norm_(model.parameters(), max_grad_norm)\n",
        "        optimizer.step()\n",
        "        scheduler.step()  # Update learning rate schedule\n",
        "        train_acc += calc_accuracy(out, label)\n",
        "        if batch_id % log_interval == 0:\n",
        "            print(\"epoch {} batch id {} loss {} train acc {}\".format(e+1, batch_id+1, loss.data.cpu().numpy(), train_acc / (batch_id+1)))\n",
        "    print(\"epoch {} train acc {}\".format(e+1, train_acc / (batch_id+1)))\n",
        "    model.eval()\n",
        "    for batch_id, (token_ids, valid_length, segment_ids, label) in tqdm(enumerate(test_dataloader), total=len(test_dataloader)):\n",
        "        token_ids = token_ids.long().to(device)\n",
        "        segment_ids = segment_ids.long().to(device)\n",
        "        valid_length= valid_length\n",
        "        label = label.long().to(device)\n",
        "        out = model(token_ids, valid_length, segment_ids)\n",
        "        test_acc += calc_accuracy(out, label)\n",
        "    print(\"epoch {} test acc {}\".format(e+1, test_acc / (batch_id+1)))"
      ]
    }
  ],
  "metadata": {
    "kernelspec": {
      "display_name": "Python 3",
      "language": "python",
      "name": "python3"
    },
    "language_info": {
      "codemirror_mode": {
        "name": "ipython",
        "version": 3
      },
      "file_extension": ".py",
      "mimetype": "text/x-python",
      "name": "python",
      "nbconvert_exporter": "python",
      "pygments_lexer": "ipython3",
      "version": "3.7.0"
    },
    "colab": {
      "name": "AI_07_박태균.ipynb",
      "provenance": [],
      "collapsed_sections": [],
      "include_colab_link": true
    }
  },
  "nbformat": 4,
  "nbformat_minor": 0
}