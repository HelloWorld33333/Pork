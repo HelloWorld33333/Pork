{
  "nbformat": 4,
  "nbformat_minor": 0,
  "metadata": {
    "kernelspec": {
      "display_name": "Python 3",
      "language": "python",
      "name": "python3"
    },
    "language_info": {
      "codemirror_mode": {
        "name": "ipython",
        "version": 3
      },
      "file_extension": ".py",
      "mimetype": "text/x-python",
      "name": "python",
      "nbconvert_exporter": "python",
      "pygments_lexer": "ipython3",
      "version": "3.8.8"
    },
    "colab": {
      "name": "n212a-multiple-regression.ipynb의 사본",
      "provenance": [],
      "collapsed_sections": [],
      "include_colab_link": true
    }
  },
  "cells": [
    {
      "cell_type": "markdown",
      "metadata": {
        "id": "view-in-github",
        "colab_type": "text"
      },
      "source": [
        "<a href=\"https://colab.research.google.com/github/HelloWorld33333/Pork/blob/main/n212a_multiple_regression_ipynb%EC%9D%98_%EC%82%AC%EB%B3%B8.ipynb\" target=\"_parent\"><img src=\"https://colab.research.google.com/assets/colab-badge.svg\" alt=\"Open In Colab\"/></a>"
      ]
    },
    {
      "cell_type": "markdown",
      "metadata": {
        "id": "Ge3LuwamI9d8"
      },
      "source": [
        "<img align=\"right\" src=\"https://ds-cs-images.s3.ap-northeast-2.amazonaws.com/Codestates_Fulllogo_Color.png\" width=100>\n",
        "\n",
        "## *AIB / SECTION 2 / SPRINT 1 / NOTE 2*\n",
        "\n",
        "# 📝 Assignment\n",
        "---"
      ]
    },
    {
      "cell_type": "markdown",
      "metadata": {
        "id": "7IXUfiQ2UKj6"
      },
      "source": [
        "# 다중선형회귀(Multiple Linear Regression)\n",
        "\n",
        "이번 과제에서도 n211 과제 에서 다루었던 housing price dataset을 가지고 배운 내용을 연습해 보겠습니다.\n",
        "다음 링크에서 다운로드 받아 사용해 주세요. [House Sales in King County, USA](https://www.kaggle.com/harlfoxem/housesalesprediction)"
      ]
    },
    {
      "cell_type": "code",
      "metadata": {
        "id": "NIjMA1i4I9eB"
      },
      "source": [
        "# 데이터는 캐글에서 받으셔도 되고 이 링크에서 불러와도 됩니다.\n",
        "import pandas as pd\n",
        "df = pd.read_csv('https://ds-lecture-data.s3.ap-northeast-2.amazonaws.com/kc_house_data/kc_house_data.csv')"
      ],
      "execution_count": 1,
      "outputs": []
    },
    {
      "cell_type": "code",
      "metadata": {
        "id": "ksMaC-1ZI9eD"
      },
      "source": [
        "df.columns"
      ],
      "execution_count": null,
      "outputs": []
    },
    {
      "cell_type": "markdown",
      "metadata": {
        "id": "gU5ZQdH0I9eD"
      },
      "source": [
        "### 1) 데이터는 May 2014 ~ May 2015 의 2년치 데이터입니다. 2015-01-01 부터 큰 날짜의 데이터는 테스트, 그 이외의 데이터는 훈련 데이터셋으로 나누어 주세요\n",
        "- **훈련데이터 샘플의 갯수를 제출하세요.**"
      ]
    },
    {
      "cell_type": "code",
      "metadata": {
        "id": "AdhgzlyKI9eD",
        "colab": {
          "base_uri": "https://localhost:8080/"
        },
        "outputId": "84cbe589-cbf4-41e0-a854-ce12b8d4f77f"
      },
      "source": [
        "### 이곳에서 과제를 진행해 주세요 ###\n",
        "import datetime\n",
        "\n",
        "df['date'] = pd.to_datetime(df['date']).dt.date\n",
        "\n",
        "test = df.loc[df['date'] > datetime.date(2015, 1, 1)]\n",
        "train = df.drop(test.index)\n",
        "print(test.shape, train.shape)"
      ],
      "execution_count": 3,
      "outputs": [
        {
          "output_type": "stream",
          "name": "stdout",
          "text": [
            "(6980, 21) (14633, 21)\n"
          ]
        }
      ]
    },
    {
      "cell_type": "markdown",
      "metadata": {
        "id": "boClW4Q4I9eE"
      },
      "source": [
        "### 2) 두 특성(bathrooms, sqft_living)을 사용해서 다중선형회귀 모델을 만들어 보세요\n",
        "- 학습시 Parameters는 모두 기본값으로 합니다.\n",
        "- 정규화(normalize) 등 추가적인 데이터처리 없이 진행합니다.\n",
        "- **테스트세트의 MAE 값을 제출하세요.(소수점 이하 반올림)**"
      ]
    },
    {
      "cell_type": "code",
      "metadata": {
        "id": "i4BV9aHII9eE",
        "colab": {
          "base_uri": "https://localhost:8080/"
        },
        "outputId": "773058be-62d6-4129-d442-b54277767393"
      },
      "source": [
        "### 이곳에서 과제를 진행해 주세요 ###\n",
        "\n",
        "features = ['bathrooms', 'sqft_living']\n",
        "\n",
        "X_train = train[features]\n",
        "X_test = test[features]\n",
        "\n",
        "target = 'price'\n",
        "y_train = train[target]\n",
        "y_test = test[target]\n",
        "\n",
        "from sklearn.linear_model import LinearRegression\n",
        "from sklearn.metrics import mean_absolute_error\n",
        "\n",
        "li_r = LinearRegression()\n",
        "\n",
        "li_r.fit(X_train, y_train)\n",
        "y_pred = li_r.predict(X_test)\n",
        "mae = mean_absolute_error(y_test, y_pred)\n",
        "\n",
        "round(mae)"
      ],
      "execution_count": 4,
      "outputs": [
        {
          "output_type": "execute_result",
          "data": {
            "text/plain": [
              "179253"
            ]
          },
          "metadata": {},
          "execution_count": 4
        }
      ]
    },
    {
      "cell_type": "markdown",
      "metadata": {
        "id": "U3aH6bfYI9eF"
      },
      "source": [
        "### 3) 모델의 회귀계수(coefficients)와 절편(intercept)을 확인해 보세요.\n",
        "- **sqft_living의 회귀계수를 제출하세요.(소수점 이하 반올림)**"
      ]
    },
    {
      "cell_type": "code",
      "metadata": {
        "id": "P3gkRQdlI9eG",
        "colab": {
          "base_uri": "https://localhost:8080/"
        },
        "outputId": "bb99d99f-f147-49c5-fc12-2fc10ed14949"
      },
      "source": [
        "### 이곳에서 과제를 진행해 주세요 \n",
        "li_r.intercept_, li_r.coef_"
      ],
      "execution_count": 5,
      "outputs": [
        {
          "output_type": "execute_result",
          "data": {
            "text/plain": [
              "(-50243.56279640319, array([-5158.92591411,   286.13753555]))"
            ]
          },
          "metadata": {},
          "execution_count": 5
        }
      ]
    },
    {
      "cell_type": "markdown",
      "metadata": {
        "id": "sfbh8GbKI9eG"
      },
      "source": [
        "### 4) MSE, RMSE, MAE, $R^2$ 를 훈련/테스트 데이터에 대해 확인해 보세요\n",
        "- **테스트 데이터에 대한 MSE, RMSE, MAE, $R^2$ 값을 올바르게 적은 보기를 고르세요.(소수점 두자리수 이하 반올림)**"
      ]
    },
    {
      "cell_type": "code",
      "metadata": {
        "id": "d5TrVFdGI9eH",
        "colab": {
          "base_uri": "https://localhost:8080/"
        },
        "outputId": "03578398-d137-49bb-a9d8-794d2fe60b89"
      },
      "source": [
        "### 이곳에서 과제를 진행해 주세요 ###\n",
        "from sklearn.metrics import  mean_squared_error, mean_absolute_error, r2_score\n",
        "\n",
        "y_pred = li_r.predict(X_test)\n",
        "\n",
        "mse = mean_squared_error(y_test, y_pred)\n",
        "mae = mean_absolute_error(y_test, y_pred)\n",
        "rmse = mse ** 0.5\n",
        "r2 = r2_score(y_test, y_pred)\n",
        "\n",
        "print(round(mse, 1), round(mae, 1), round(rmse, 1), round(r2, 1))"
      ],
      "execution_count": 6,
      "outputs": [
        {
          "output_type": "stream",
          "name": "stdout",
          "text": [
            "71083994178.8 179252.5 266615.8 0.5\n"
          ]
        }
      ]
    },
    {
      "cell_type": "markdown",
      "metadata": {
        "id": "b0YWQDP4I9eH"
      },
      "source": [
        "## 🔥도전과제\n",
        "\n",
        "### 공지로 안내드리는 Github - Discussion 페이지에 올려 보세요:)"
      ]
    },
    {
      "cell_type": "markdown",
      "metadata": {
        "id": "_-LV6OZHI9eH"
      },
      "source": [
        "### 5)  EDA를 진행하시고, 두개 이상의 특성을 선택하여 특성공학(feature engineering)을 진행한 후 아래의 질문들에 대한 본인만의 리포트를 작성해보시고 서로 논해 보세요. \n",
        "- 어떤 이유에서 해당 특성공학을 진행하셨나요? 특성공학을 통해 기대하는 효과는 무엇이었나요? 만약 얻고자 하는 효과를 얻지 못했다면 이유는 무엇이며 어떤 액션을 추가할 수 있을까요? \n",
        "- 특성공학을 거친 특성을 포함해 다수의 특성을 사용한 모델을 학습하고 테스트 데이터에 대해 MSE, RMSE, MAE, R2 스코어는 어떠한가요? 해당 결과를 통해 얻을 수 있는 인사이트는 어떤 것이 있었나요? \n",
        "- 만들어진 회귀계수를 사용해 모델을 설명해 본다면? \n",
        "- 만들어진 모델은 과소적합인가요? 과대적합인가요? 일반화가 잘 된 모델을 만들기 위해 추가로 할 수 있는 액션은 어떤 것이 있을까요? \n",
        "\n",
        "※kaggle notebook에서도 힌트를 얻어 보세요. "
      ]
    },
    {
      "cell_type": "code",
      "metadata": {
        "id": "U7pIl7gtI9eI",
        "colab": {
          "base_uri": "https://localhost:8080/"
        },
        "outputId": "0cb6c6b5-de2c-4b33-83b5-c40998a86135"
      },
      "source": [
        "df.dtypes"
      ],
      "execution_count": 46,
      "outputs": [
        {
          "output_type": "execute_result",
          "data": {
            "text/plain": [
              "id                 int64\n",
              "date              object\n",
              "price            float64\n",
              "bedrooms           int64\n",
              "bathrooms        float64\n",
              "sqft_living        int64\n",
              "sqft_lot           int64\n",
              "floors           float64\n",
              "waterfront         int64\n",
              "view               int64\n",
              "condition          int64\n",
              "grade              int64\n",
              "sqft_above         int64\n",
              "sqft_basement      int64\n",
              "yr_built           int64\n",
              "yr_renovated       int64\n",
              "zipcode            int64\n",
              "lat              float64\n",
              "long             float64\n",
              "sqft_living15      int64\n",
              "sqft_lot15         int64\n",
              "dtype: object"
            ]
          },
          "metadata": {},
          "execution_count": 46
        }
      ]
    },
    {
      "cell_type": "code",
      "metadata": {
        "colab": {
          "base_uri": "https://localhost:8080/",
          "height": 319
        },
        "id": "OjyeOQWxYWDM",
        "outputId": "ca24ba6f-206f-4447-e262-23e161e48fdb"
      },
      "source": [
        "import matplotlib.pyplot as plt\n",
        "\n",
        "plt.hist(df['waterfront'])\n",
        "\n",
        "df['waterfront'].value_counts()"
      ],
      "execution_count": 8,
      "outputs": [
        {
          "output_type": "execute_result",
          "data": {
            "text/plain": [
              "0    21450\n",
              "1      163\n",
              "Name: waterfront, dtype: int64"
            ]
          },
          "metadata": {},
          "execution_count": 8
        },
        {
          "output_type": "display_data",
          "data": {
            "image/png": "[encoded data removed]",
            "text/plain": [
              "<Figure size 432x288 with 1 Axes>"
            ]
          },
          "metadata": {
            "needs_background": "light"
          }
        }
      ]
    },
    {
      "cell_type": "code",
      "metadata": {
        "colab": {
          "base_uri": "https://localhost:8080/",
          "height": 373
        },
        "id": "DIIkSkBlYaUD",
        "outputId": "d7e1ef83-1bd9-49bd-906b-e54853f483f9"
      },
      "source": [
        "plt.hist(df['view'])\n",
        "\n",
        "df['view'].value_counts()"
      ],
      "execution_count": 9,
      "outputs": [
        {
          "output_type": "execute_result",
          "data": {
            "text/plain": [
              "0    19489\n",
              "2      963\n",
              "3      510\n",
              "1      332\n",
              "4      319\n",
              "Name: view, dtype: int64"
            ]
          },
          "metadata": {},
          "execution_count": 9
        },
        {
          "output_type": "display_data",
          "data": {
            "image/png": "[encoded data removed]",
            "text/plain": [
              "<Figure size 432x288 with 1 Axes>"
            ]
          },
          "metadata": {
            "needs_background": "light"
          }
        }
      ]
    },
    {
      "cell_type": "code",
      "metadata": {
        "colab": {
          "base_uri": "https://localhost:8080/",
          "height": 481
        },
        "id": "YqvDQuUQfqGp",
        "outputId": "a7d2d8bb-8fa4-4f02-bad3-c209bcace113"
      },
      "source": [
        "plt.hist(df['yr_renovated'])\n",
        "\n",
        "df['yr_renovated'].value_counts()"
      ],
      "execution_count": 10,
      "outputs": [
        {
          "output_type": "execute_result",
          "data": {
            "text/plain": [
              "0       20699\n",
              "2014       91\n",
              "2013       37\n",
              "2003       36\n",
              "2000       35\n",
              "        ...  \n",
              "1934        1\n",
              "1959        1\n",
              "1951        1\n",
              "1948        1\n",
              "1944        1\n",
              "Name: yr_renovated, Length: 70, dtype: int64"
            ]
          },
          "metadata": {},
          "execution_count": 10
        },
        {
          "output_type": "display_data",
          "data": {
            "image/png": "[encoded data removed]",
            "text/plain": [
              "<Figure size 432x288 with 1 Axes>"
            ]
          },
          "metadata": {
            "needs_background": "light"
          }
        }
      ]
    },
    {
      "cell_type": "code",
      "metadata": {
        "colab": {
          "base_uri": "https://localhost:8080/"
        },
        "id": "36tlDlri4OBV",
        "outputId": "7587a782-e1df-47ec-e829-f473b828bbaa"
      },
      "source": [
        "# id : 주택의 고유 id, \tdate : 집이 판매된 날짜,  zipcode : 우편번호, lat : 위도\n",
        "# 해당 데이터는 집값을 예측하는데에 필요 없는 데이터\n",
        "\n",
        "# waterfront : 아파트가 해안가를 내려다 보고 있는지에 대한 여부,\tview : 전망이 얼마나 좋은지를 나타내는 변수\n",
        "# 해당 데이터들은 데이터의 역할을 수행하지 못할 정도로 어느 한 값에 치우쳐져 있어서 삭제\n",
        "\n",
        "# sqft_above : 지면보다 높은 내부 주택의 공간의 평당 피트 수\n",
        "# 해당 데이터는 sqft_living 데이터와 너무 유사하기 때문에 삭제\n",
        "\n",
        "# yr_renovated : 리모델링 년도를 나타냄, 리모델링 하지 않았으면 0으로 채움\n",
        "# 해당 데이터는 리모델링 여부로 리모델링 하지 않았으면 0, 1980년대 이전에 했으면 2, 그 이후에는 3으로 변경\n",
        "\n",
        "#df['yr_renovated'] = pd.to_numeric(df['yr_renovated'])\n",
        "\n",
        "def category(x) : \n",
        "  if x == 0 : return 0\n",
        "  elif (x > 1) & (x < 1980) : return 1\n",
        "  else : return 2\n",
        "\n",
        "df['yr_renovated'] = df['yr_renovated'].apply(category)\n",
        "\n",
        "df['yr_renovated'].value_counts()"
      ],
      "execution_count": 42,
      "outputs": [
        {
          "output_type": "execute_result",
          "data": {
            "text/plain": [
              "0    20699\n",
              "1      792\n",
              "2      122\n",
              "Name: yr_renovated, dtype: int64"
            ]
          },
          "metadata": {},
          "execution_count": 42
        }
      ]
    },
    {
      "cell_type": "code",
      "metadata": {
        "colab": {
          "base_uri": "https://localhost:8080/",
          "height": 419
        },
        "id": "vn9abLUXFpdx",
        "outputId": "6ef10121-1d86-464a-c52a-436f02d2bdbf"
      },
      "source": [
        "df_EDA = pd.concat([df.loc[:, 'price':'floors'], df.loc[:, 'condition':'grade'], df.loc[:, 'sqft_basement':'yr_renovated'], df.loc[:, 'sqft_living15':'sqft_lot15']], axis=1)\n",
        "\n",
        "df_EDA['bathrooms'] = df['bathrooms'].astype(int)\n",
        "df_EDA['floors'] = df['floors'].astype(int)\n",
        "\n",
        "df_EDA\n",
        "# 전처리 완료"
      ],
      "execution_count": 50,
      "outputs": [
        {
          "output_type": "execute_result",
          "data": {
            "text/html": [
              "<div>\n",
              "<style scoped>\n",
              "    .dataframe tbody tr th:only-of-type {\n",
              "        vertical-align: middle;\n",
              "    }\n",
              "\n",
              "    .dataframe tbody tr th {\n",
              "        vertical-align: top;\n",
              "    }\n",
              "\n",
              "    .dataframe thead th {\n",
              "        text-align: right;\n",
              "    }\n",
              "</style>\n",
              "<table border=\"1\" class=\"dataframe\">\n",
              "  <thead>\n",
              "    <tr style=\"text-align: right;\">\n",
              "      <th></th>\n",
              "      <th>price</th>\n",
              "      <th>bedrooms</th>\n",
              "      <th>bathrooms</th>\n",
              "      <th>sqft_living</th>\n",
              "      <th>sqft_lot</th>\n",
              "      <th>floors</th>\n",
              "      <th>condition</th>\n",
              "      <th>grade</th>\n",
              "      <th>sqft_basement</th>\n",
              "      <th>yr_built</th>\n",
              "      <th>yr_renovated</th>\n",
              "      <th>sqft_living15</th>\n",
              "      <th>sqft_lot15</th>\n",
              "    </tr>\n",
              "  </thead>\n",
              "  <tbody>\n",
              "    <tr>\n",
              "      <th>0</th>\n",
              "      <td>221900.0</td>\n",
              "      <td>3</td>\n",
              "      <td>1</td>\n",
              "      <td>1180</td>\n",
              "      <td>5650</td>\n",
              "      <td>1</td>\n",
              "      <td>3</td>\n",
              "      <td>7</td>\n",
              "      <td>0</td>\n",
              "      <td>1955</td>\n",
              "      <td>0</td>\n",
              "      <td>1340</td>\n",
              "      <td>5650</td>\n",
              "    </tr>\n",
              "    <tr>\n",
              "      <th>1</th>\n",
              "      <td>538000.0</td>\n",
              "      <td>3</td>\n",
              "      <td>2</td>\n",
              "      <td>2570</td>\n",
              "      <td>7242</td>\n",
              "      <td>2</td>\n",
              "      <td>3</td>\n",
              "      <td>7</td>\n",
              "      <td>400</td>\n",
              "      <td>1951</td>\n",
              "      <td>1</td>\n",
              "      <td>1690</td>\n",
              "      <td>7639</td>\n",
              "    </tr>\n",
              "    <tr>\n",
              "      <th>2</th>\n",
              "      <td>180000.0</td>\n",
              "      <td>2</td>\n",
              "      <td>1</td>\n",
              "      <td>770</td>\n",
              "      <td>10000</td>\n",
              "      <td>1</td>\n",
              "      <td>3</td>\n",
              "      <td>6</td>\n",
              "      <td>0</td>\n",
              "      <td>1933</td>\n",
              "      <td>0</td>\n",
              "      <td>2720</td>\n",
              "      <td>8062</td>\n",
              "    </tr>\n",
              "    <tr>\n",
              "      <th>3</th>\n",
              "      <td>604000.0</td>\n",
              "      <td>4</td>\n",
              "      <td>3</td>\n",
              "      <td>1960</td>\n",
              "      <td>5000</td>\n",
              "      <td>1</td>\n",
              "      <td>5</td>\n",
              "      <td>7</td>\n",
              "      <td>910</td>\n",
              "      <td>1965</td>\n",
              "      <td>0</td>\n",
              "      <td>1360</td>\n",
              "      <td>5000</td>\n",
              "    </tr>\n",
              "    <tr>\n",
              "      <th>4</th>\n",
              "      <td>510000.0</td>\n",
              "      <td>3</td>\n",
              "      <td>2</td>\n",
              "      <td>1680</td>\n",
              "      <td>8080</td>\n",
              "      <td>1</td>\n",
              "      <td>3</td>\n",
              "      <td>8</td>\n",
              "      <td>0</td>\n",
              "      <td>1987</td>\n",
              "      <td>0</td>\n",
              "      <td>1800</td>\n",
              "      <td>7503</td>\n",
              "    </tr>\n",
              "    <tr>\n",
              "      <th>...</th>\n",
              "      <td>...</td>\n",
              "      <td>...</td>\n",
              "      <td>...</td>\n",
              "      <td>...</td>\n",
              "      <td>...</td>\n",
              "      <td>...</td>\n",
              "      <td>...</td>\n",
              "      <td>...</td>\n",
              "      <td>...</td>\n",
              "      <td>...</td>\n",
              "      <td>...</td>\n",
              "      <td>...</td>\n",
              "      <td>...</td>\n",
              "    </tr>\n",
              "    <tr>\n",
              "      <th>21608</th>\n",
              "      <td>360000.0</td>\n",
              "      <td>3</td>\n",
              "      <td>2</td>\n",
              "      <td>1530</td>\n",
              "      <td>1131</td>\n",
              "      <td>3</td>\n",
              "      <td>3</td>\n",
              "      <td>8</td>\n",
              "      <td>0</td>\n",
              "      <td>2009</td>\n",
              "      <td>0</td>\n",
              "      <td>1530</td>\n",
              "      <td>1509</td>\n",
              "    </tr>\n",
              "    <tr>\n",
              "      <th>21609</th>\n",
              "      <td>400000.0</td>\n",
              "      <td>4</td>\n",
              "      <td>2</td>\n",
              "      <td>2310</td>\n",
              "      <td>5813</td>\n",
              "      <td>2</td>\n",
              "      <td>3</td>\n",
              "      <td>8</td>\n",
              "      <td>0</td>\n",
              "      <td>2014</td>\n",
              "      <td>0</td>\n",
              "      <td>1830</td>\n",
              "      <td>7200</td>\n",
              "    </tr>\n",
              "    <tr>\n",
              "      <th>21610</th>\n",
              "      <td>402101.0</td>\n",
              "      <td>2</td>\n",
              "      <td>0</td>\n",
              "      <td>1020</td>\n",
              "      <td>1350</td>\n",
              "      <td>2</td>\n",
              "      <td>3</td>\n",
              "      <td>7</td>\n",
              "      <td>0</td>\n",
              "      <td>2009</td>\n",
              "      <td>0</td>\n",
              "      <td>1020</td>\n",
              "      <td>2007</td>\n",
              "    </tr>\n",
              "    <tr>\n",
              "      <th>21611</th>\n",
              "      <td>400000.0</td>\n",
              "      <td>3</td>\n",
              "      <td>2</td>\n",
              "      <td>1600</td>\n",
              "      <td>2388</td>\n",
              "      <td>2</td>\n",
              "      <td>3</td>\n",
              "      <td>8</td>\n",
              "      <td>0</td>\n",
              "      <td>2004</td>\n",
              "      <td>0</td>\n",
              "      <td>1410</td>\n",
              "      <td>1287</td>\n",
              "    </tr>\n",
              "    <tr>\n",
              "      <th>21612</th>\n",
              "      <td>325000.0</td>\n",
              "      <td>2</td>\n",
              "      <td>0</td>\n",
              "      <td>1020</td>\n",
              "      <td>1076</td>\n",
              "      <td>2</td>\n",
              "      <td>3</td>\n",
              "      <td>7</td>\n",
              "      <td>0</td>\n",
              "      <td>2008</td>\n",
              "      <td>0</td>\n",
              "      <td>1020</td>\n",
              "      <td>1357</td>\n",
              "    </tr>\n",
              "  </tbody>\n",
              "</table>\n",
              "<p>21613 rows × 13 columns</p>\n",
              "</div>"
            ],
            "text/plain": [
              "          price  bedrooms  bathrooms  ...  yr_renovated  sqft_living15  sqft_lot15\n",
              "0      221900.0         3          1  ...             0           1340        5650\n",
              "1      538000.0         3          2  ...             1           1690        7639\n",
              "2      180000.0         2          1  ...             0           2720        8062\n",
              "3      604000.0         4          3  ...             0           1360        5000\n",
              "4      510000.0         3          2  ...             0           1800        7503\n",
              "...         ...       ...        ...  ...           ...            ...         ...\n",
              "21608  360000.0         3          2  ...             0           1530        1509\n",
              "21609  400000.0         4          2  ...             0           1830        7200\n",
              "21610  402101.0         2          0  ...             0           1020        2007\n",
              "21611  400000.0         3          2  ...             0           1410        1287\n",
              "21612  325000.0         2          0  ...             0           1020        1357\n",
              "\n",
              "[21613 rows x 13 columns]"
            ]
          },
          "metadata": {},
          "execution_count": 50
        }
      ]
    },
    {
      "cell_type": "code",
      "metadata": {
        "colab": {
          "base_uri": "https://localhost:8080/"
        },
        "id": "LjsXIRVwMR8r",
        "outputId": "86771a8c-db41-4c96-afa6-9df95ee2e340"
      },
      "source": [
        "from sklearn.preprocessing import StandardScaler\n",
        "\n",
        "train = df.sample(frac=0.75,random_state=1)\n",
        "test = df.drop(train.index)\n",
        "\n",
        "scaler = StandardScaler()\n",
        "\n",
        "features = ['bedrooms',\t'bathrooms',\t'sqft_living',\t'sqft_lot',\t'floors',\t'condition',\t'grade',\t'sqft_basement',\t'yr_built',\t'yr_renovated',\t'sqft_living15', 'sqft_lot15']\n",
        "\n",
        "X_train = train[features]\n",
        "X_test = test[features]\n",
        "\n",
        "X_train_scaled = scaler.fit_transform(X_train)\n",
        "X_test_scaled = scaler.transform(X_test)\n",
        "\n",
        "target = 'price'\n",
        "y_train = train[target]\n",
        "y_test = test[target]\n",
        "\n",
        "li_r.fit(X_train_scaled, y_train)\n",
        "y_pred = li_r.predict(X_test_scaled)\n",
        "\n",
        "mse = mean_squared_error(y_test, y_pred)\n",
        "mae = mean_absolute_error(y_test, y_pred)\n",
        "rmse = mse ** 0.5\n",
        "r2 = r2_score(y_test, y_pred)\n",
        "\n",
        "print(round(mse, 1), round(mae, 1), round(rmse, 1), round(r2, 1))"
      ],
      "execution_count": 65,
      "outputs": [
        {
          "output_type": "stream",
          "name": "stdout",
          "text": [
            "52090802587.0 143851.9 228234.1 0.6\n"
          ]
        }
      ]
    },
    {
      "cell_type": "markdown",
      "metadata": {
        "id": "ILwkZq1pI9eI"
      },
      "source": [
        "## 참고자료\n",
        "* [Feature Engineering](https://en.wikipedia.org/wiki/Feature_engineering)\n",
        "* [\"A Few Useful Things to Know about Machine Learning\"](https://homes.cs.washington.edu/~pedrod/papers/cacm12.pdf)\n",
        "* [Machine Learning and AI via Brain simulations](https://forum.stanford.edu/events/2011/2011slides/plenary/2011plenaryNg.pdf)\n",
        "* [_An Introduction to Statistical Learning_](http://faculty.marshall.usc.edu/gareth-james/ISL/ISLR%20Seventh%20Printing.pdf),  Chapter 3.1, Simple Linear Regression, & Chapter 3.2, Multiple Linear Regression\n",
        "* [Brandon Foltz, Statistics 101: Simple Linear Regression](https://www.youtube.com/watch?v=ZkjP5RJLQF4)"
      ]
    },
    {
      "cell_type": "code",
      "metadata": {
        "id": "7dlo4kWeEWii"
      },
      "source": [
        ""
      ],
      "execution_count": 12,
      "outputs": []
    }
  ]
}